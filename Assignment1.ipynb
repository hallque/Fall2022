{
  "cells": [
    {
      "cell_type": "markdown",
      "source": [
        "<a href=\"https://colab.research.google.com/github/hallque/Fall2022/blob/main/Assignment1.ipynb\" target=\"_parent\"><img src=\"https://colab.research.google.com/assets/colab-badge.svg\" alt=\"Open In Colab\"/></a>"
      ],
      "metadata": {
        "id": "view-in-github",
        "colab_type": "text"
      }
    },
    {
      "cell_type": "markdown",
      "source": [
        "# Assignment 1\n",
        "\n",
        "A few things you should keep in mind when working on assignments:\n",
        "\n",
        "1. Make sure you fill in any place that says # YOUR CODE HERE. Do not write your answer anywhere else other than where it says # YOUR CODE HERE. \n",
        "\n",
        "2. Before you submit your assignment, make sure everything runs as expected. Go to the menubar, select Runtime, and select restart runtime and run all cells.\n",
        "\n",
        "3. Do not change the title (i.e. file name) of this notebook.\n",
        "\n",
        "4. Make sure that you save your work. When you click on the link in Canvas you open a shared notebook that you cannot save. Make sure to copy the notebook to your own Google Drive before starting work. \n",
        "\n",
        "5. All work must be your own, if you do use any code from another source (such as a course notebook or a website) you need to properly cite the source."
      ],
      "metadata": {
        "deletable": false,
        "editable": false,
        "nbgrader": {
          "checksum": "6d0bb709a6164595b536e1d9ae8f703f",
          "grade": false,
          "grade_id": "cell-fb984e839f54abb5",
          "locked": true,
          "schema_version": 1,
          "solution": false
        },
        "id": "szDBmwtZqw2W"
      }
    },
    {
      "cell_type": "markdown",
      "source": [
        "----"
      ],
      "metadata": {
        "id": "21PkVSTWvuS8"
      }
    },
    {
      "cell_type": "code",
      "source": [
        "%%capture\n",
        "#@title Run this cell before getting started\n",
        "!pip install nose\n",
        "from nose.tools import assert_equal, assert_almost_equals, assert_not_equal\n",
        "import os, sys\n",
        "import math\n",
        "import warnings\n",
        "warnings.filterwarnings(\"ignore\", category=DeprecationWarning) "
      ],
      "outputs": [],
      "execution_count": null,
      "metadata": {
        "cellView": "form",
        "id": "YoIpXDzkqw2Z"
      }
    },
    {
      "cell_type": "markdown",
      "source": [
        "----\n",
        "# Problem 1: Creating a Python string\n",
        "\n",
        "- Type \"x = 'This is my first string. Hookem Horns' \" without the outer quotation marks in the below cell and run it."
      ],
      "metadata": {
        "deletable": false,
        "editable": false,
        "nbgrader": {
          "checksum": "0249749e99ad864747dd436f174cfe54",
          "grade": false,
          "grade_id": "cell-2b55eb23d31e6870",
          "locked": true,
          "schema_version": 1,
          "solution": false
        },
        "id": "Bt9Q6kYqqw2a"
      }
    },
    {
      "cell_type": "code",
      "source": [
        "### YOUR CODE HERE"
      ],
      "outputs": [],
      "execution_count": null,
      "metadata": {
        "deletable": false,
        "nbgrader": {
          "checksum": "7ca55efe8b50f42534b71502e43a8b07",
          "grade": false,
          "grade_id": "p1-answer",
          "locked": false,
          "schema_version": 1,
          "solution": true
        },
        "id": "DnHUNOjJqw2b"
      }
    },
    {
      "cell_type": "code",
      "source": [
        "#@title This is a grading cell. Run after completing the cell above.\n",
        "try:\n",
        "    if ((x=='This is my first string. Hookem Horns') & (type(x)==str)):\n",
        "        print('Great! You created a string!')\n",
        "    else:\n",
        "        print('x is not the right value check your code and run again')\n",
        "except NameError:\n",
        "    print('x is not defined! You need to run the code cell!')\n",
        "    \n",
        "assert_equal(type(x),str, msg='x is not a string!')"
      ],
      "outputs": [],
      "execution_count": null,
      "metadata": {
        "deletable": false,
        "editable": false,
        "nbgrader": {
          "checksum": "5ba9b99622726bdb2e51cb1e6302f2ac",
          "grade": true,
          "grade_id": "p1-test",
          "locked": true,
          "points": 1,
          "schema_version": 1,
          "solution": false
        },
        "cellView": "form",
        "id": "Q4BvZGxLqw2b"
      }
    },
    {
      "cell_type": "markdown",
      "source": [
        "----\n",
        "# Problem 2: Import numpy\n",
        "\n",
        "- Sometimes we want to do things in Python that are not supported natively. Luckily Python supports thousands of packages (e.g., numpy, pandas, etc.) that increase functionality. As we will discuss in more detail later on in the course, these packages are easy to install as needed. For now, type \"`import numpy`\" in the below cell to import the numpy module."
      ],
      "metadata": {
        "deletable": false,
        "editable": false,
        "nbgrader": {
          "checksum": "459e5e7ccc494cbf74e2d3294803a5c9",
          "grade": false,
          "grade_id": "cell-2320466f8ac62e59",
          "locked": true,
          "schema_version": 1,
          "solution": false
        },
        "id": "57dhfC-Kqw2b"
      }
    },
    {
      "cell_type": "code",
      "source": [
        "### YOUR CODE HERE"
      ],
      "outputs": [],
      "execution_count": null,
      "metadata": {
        "deletable": false,
        "nbgrader": {
          "checksum": "b458738db8444ef7a4bc583de13b666c",
          "grade": false,
          "grade_id": "p2-answer",
          "locked": false,
          "schema_version": 1,
          "solution": true
        },
        "id": "VVg1qqUAqw2c"
      }
    },
    {
      "cell_type": "code",
      "source": [
        "#@title This is a grading cell. Run after completing the cell above.\n",
        "if 'numpy' in dir():\n",
        "    print('numpy module has been successfully imported')\n",
        "else:\n",
        "    print('numpy module has not been imported')\n",
        "    \n",
        "assert_equal(numpy.array([1])[0],1,msg='Make sure you ran the code cell to import numpy!')"
      ],
      "outputs": [],
      "execution_count": null,
      "metadata": {
        "deletable": false,
        "editable": false,
        "nbgrader": {
          "checksum": "ddd4612dad3123b130a6c1be4fe753c4",
          "grade": true,
          "grade_id": "p2-test",
          "locked": true,
          "points": 1,
          "schema_version": 1,
          "solution": false
        },
        "id": "RUVs5Mcuqw2c",
        "cellView": "form"
      }
    },
    {
      "cell_type": "markdown",
      "source": [
        "----\n",
        "# Problem 3: Add emphasis to Markdown text\n",
        "\n",
        "- The below cell is in code format, but we can use the IPython.display module to write Markdown formatted code as Python strings, and then display it as markdown.\n",
        "\n",
        "\n",
        "- In the below cell, in between the two ` '''` statements, write markdown code that does the following\n",
        "\n",
        "    - Writes the word \"bold\" **in bold**\n",
        "    \n",
        "    - Writes the word \"italics\" *in italics*\n",
        "    \n",
        "    - Write the phrase \"scrach and bold\" as strikethrough _and_ bold, like so ~~**scratch and bold**~~. The symbols that initialize the bold enviroment should go on the inside. \n",
        "    \n",
        "    \n",
        "\n",
        "- NOTE: When writing your markdown code, dont put any spaces between the Markdown characters that initialize the bold/italicize/scratch environments, and your text within those environments.\n",
        "\n",
        "- HINT: We have not learned how to render strikethrough. Can you think of a way to figure out how to do it without searching the internet? "
      ],
      "metadata": {
        "deletable": false,
        "editable": false,
        "nbgrader": {
          "checksum": "903dd5137d8be0f7fa59bedf916e384f",
          "grade": false,
          "grade_id": "cell-2a71d53b43b10ca2",
          "locked": true,
          "schema_version": 1,
          "solution": false
        },
        "id": "JMPUHUWJqw2c"
      }
    },
    {
      "cell_type": "code",
      "source": [
        "md='''\n",
        "\n",
        "### YOUR CODE HERE\n",
        "\n",
        "'''"
      ],
      "outputs": [],
      "execution_count": null,
      "metadata": {
        "deletable": false,
        "nbgrader": {
          "checksum": "b1ea34d7df72ac56ce578066bc9c9d5c",
          "grade": false,
          "grade_id": "p3-answer",
          "locked": false,
          "schema_version": 1,
          "solution": true
        },
        "id": "Tn4gvrjAqw2d"
      }
    },
    {
      "cell_type": "code",
      "source": [
        "#Let's view the markdown\n",
        "from IPython.display import Markdown\n",
        "display(Markdown(md))"
      ],
      "outputs": [],
      "execution_count": null,
      "metadata": {
        "deletable": false,
        "editable": false,
        "nbgrader": {
          "checksum": "f32ff01652f269967b3d0a0ac52fc591",
          "grade": false,
          "grade_id": "cell-f7a9971c830f23f8",
          "locked": true,
          "schema_version": 1,
          "solution": false
        },
        "id": "yXycWCQNqw2d"
      }
    },
    {
      "cell_type": "code",
      "source": [
        "#@title This is a grading cell. Run after completing the cell above.\n",
        "text1 = md.find('~**')\n",
        "assert_not_equal(text1,-1,msg='Make sure you are using scratch first and bold second.')\n",
        "text2 = md.find('**')\n",
        "assert_not_equal(text2,-1,msg='You did not bold the word bold.')\n",
        "text3 = md.find('_ital')\n",
        "assert_not_equal(text3,-1,msg='You did not italicize the word italics')\n",
        "\n",
        "if text1 != -1 & text2 != -1 & text3 != -1:\n",
        "  print('Good work!')\n",
        "else:\n",
        "  print('')"
      ],
      "outputs": [],
      "execution_count": null,
      "metadata": {
        "deletable": false,
        "editable": false,
        "nbgrader": {
          "checksum": "a73dd8a0a9dfa4ded681e48b9cfb3baa",
          "grade": true,
          "grade_id": "p3-test",
          "locked": true,
          "points": 1,
          "schema_version": 1,
          "solution": false
        },
        "id": "aYCzwpMTqw2d",
        "cellView": "form"
      }
    },
    {
      "cell_type": "markdown",
      "source": [
        "----\n",
        "# Problem 4: Create a Markdown list\n",
        "\n",
        "- The below cell is in code format, but we can use the IPython.display module to write Markdown formatted code as Python strings, and then display it as markdown.\n",
        "\n",
        "\n",
        "- In the below cell, in between the two ` '''` statements, write markdown code that creates a markdown list with 3 items. The items should be numbered 1 through 3, respectively, and there should be a `.` character after each number. Name each item \"Item 1\", \"Item 2\", and \"Item 3\", respectively. Note that the \"I\" in Item sould be capitalized."
      ],
      "metadata": {
        "deletable": false,
        "editable": false,
        "nbgrader": {
          "checksum": "7f1bf334100d655990bd99564fd56c36",
          "grade": false,
          "grade_id": "cell-9ca45d4e11879eff",
          "locked": true,
          "schema_version": 1,
          "solution": false
        },
        "id": "QaS_3uvpqw2d"
      }
    },
    {
      "cell_type": "code",
      "source": [
        "md='''\n",
        "\n",
        "### YOUR CODE HERE\n",
        "\n",
        "'''"
      ],
      "outputs": [],
      "execution_count": null,
      "metadata": {
        "deletable": false,
        "nbgrader": {
          "checksum": "49e29561ac16526076f721a4ce40668c",
          "grade": false,
          "grade_id": "p4-answer",
          "locked": false,
          "schema_version": 1,
          "solution": true
        },
        "id": "IHI7hU_rqw2e"
      }
    },
    {
      "cell_type": "code",
      "source": [
        "#Let's view the markdown\n",
        "from IPython.display import Markdown\n",
        "display(Markdown(md))"
      ],
      "outputs": [],
      "execution_count": null,
      "metadata": {
        "deletable": false,
        "editable": false,
        "nbgrader": {
          "checksum": "7722546b7185b368a63657ed10cb73ae",
          "grade": false,
          "grade_id": "cell-74ba7aa6cdb7e55c",
          "locked": true,
          "schema_version": 1,
          "solution": false
        },
        "id": "qfHpLRXMqw2e"
      }
    },
    {
      "cell_type": "code",
      "source": [
        "#@title This is a grading cell. Run after completing the cell above.\n",
        "text1 = md.find('1.')\n",
        "assert_not_equal(text1,-1,msg='Number 1. is mising from your markdown list')\n",
        "text2 = md.find('2')\n",
        "assert_not_equal(text2,-1,msg='Number 2. is mising from your markdown list')\n",
        "text3 = md.find('3.')\n",
        "assert_not_equal(text3,-1,msg='Number 3. is mising from your markdown list')\n",
        "text4 = md.find('Item')\n",
        "assert_not_equal(text4,-1,msg='Make sure you named each item in the list properly.')\n",
        "\n",
        "if text1 != -1 & text2 != -1 & text3 != -1 & text4 != -1:\n",
        "  print('Good work!')\n",
        "else:\n",
        "  print('')"
      ],
      "outputs": [],
      "execution_count": null,
      "metadata": {
        "deletable": false,
        "editable": false,
        "nbgrader": {
          "checksum": "58879da7aa8062f8f6fda5fb724043ab",
          "grade": true,
          "grade_id": "p4-test",
          "locked": true,
          "points": 1,
          "schema_version": 1,
          "solution": false
        },
        "id": "67BLrEoHqw2e",
        "cellView": "form"
      }
    },
    {
      "cell_type": "markdown",
      "source": [
        "----\n",
        "# Problem 5: Show code in Markdown\n",
        "\n",
        "- The below cell is in code format, but we can use the IPython.display module to write Markdown formatted code as Python strings, and then display it as markdown.\n",
        "\n",
        "\n",
        "- In the below cell, in between the two ` '''` statements, write markdown code that renders Python code. The Python code to be rendered is the statement `x = 'this is a python string'`. The rendered code should look just like it does in this example.\n",
        "\n",
        "\n",
        "- NOTE: When writing your markdown code, dont put any spaces between the Markdown characters that initialize the \"code\" environment.\n",
        "\n",
        "- HINT: You can edit this cell to see how it is rendering the statement as code."
      ],
      "metadata": {
        "deletable": false,
        "editable": false,
        "nbgrader": {
          "checksum": "baa747baadf4c18bd8e4d4e7be2b01de",
          "grade": false,
          "grade_id": "cell-08693a0feea91e94",
          "locked": true,
          "schema_version": 1,
          "solution": false
        },
        "id": "L5TrDkQsqw2f"
      }
    },
    {
      "cell_type": "code",
      "source": [
        "md='''\n",
        "\n",
        "### YOUR CODE HERE\n",
        "\n",
        "'''"
      ],
      "outputs": [],
      "execution_count": null,
      "metadata": {
        "deletable": false,
        "nbgrader": {
          "checksum": "a7e14b109d0ee6aa7c8893d51bf01987",
          "grade": false,
          "grade_id": "p5-answer",
          "locked": false,
          "schema_version": 1,
          "solution": true
        },
        "id": "Y36U-sbrqw2f"
      }
    },
    {
      "cell_type": "code",
      "source": [
        "#Let's view the markdown\n",
        "from IPython.display import Markdown\n",
        "display(Markdown(md))"
      ],
      "outputs": [],
      "execution_count": null,
      "metadata": {
        "deletable": false,
        "editable": false,
        "nbgrader": {
          "checksum": "71fedb886486a3d5e2504b5d9c69bf22",
          "grade": false,
          "grade_id": "cell-ab982305b4a89353",
          "locked": true,
          "schema_version": 1,
          "solution": false
        },
        "id": "wW0dImpJqw2f"
      }
    },
    {
      "cell_type": "code",
      "source": [
        "#@title This is a grading cell. Run after completing the cell above.\n",
        "text1 = md.find('`x')\n",
        "assert_not_equal(text1,-1,msg='Make sure you are using the right characters to render the code.')\n",
        "text2 = md.find('python')\n",
        "assert_not_equal(text2,-1,msg='Make sure you type the string correctly.')\n",
        "if text1 != -1 & text2 != -1:\n",
        "  print('Good work!')\n",
        "else:\n",
        "  print('')"
      ],
      "outputs": [],
      "execution_count": null,
      "metadata": {
        "deletable": false,
        "editable": false,
        "nbgrader": {
          "checksum": "98609904cb3383488e5e570e218f2e67",
          "grade": true,
          "grade_id": "p5-test",
          "locked": true,
          "points": 1,
          "schema_version": 1,
          "solution": false
        },
        "id": "srCHTszdqw2f",
        "cellView": "form"
      }
    }
  ],
  "metadata": {
    "coursera": {
      "course_slug": "data-analytics-accountancy-1",
      "graded_item_id": "h3vs6",
      "launcher_item_id": "pZFXD"
    },
    "kernelspec": {
      "display_name": "Python 3 (ipykernel)",
      "language": "python",
      "name": "python3"
    },
    "language_info": {
      "codemirror_mode": {
        "name": "ipython",
        "version": 3
      },
      "file_extension": ".py",
      "mimetype": "text/x-python",
      "name": "python",
      "nbconvert_exporter": "python",
      "pygments_lexer": "ipython3",
      "version": "3.9.10"
    },
    "colab": {
      "name": "Assignment1.ipynb",
      "provenance": [],
      "collapsed_sections": [],
      "include_colab_link": true
    },
    "nteract": {
      "version": "0.28.0"
    }
  },
  "nbformat": 4,
  "nbformat_minor": 0
}