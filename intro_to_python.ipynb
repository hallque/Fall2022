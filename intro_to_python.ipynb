{
  "cells": [
    {
      "cell_type": "markdown",
      "metadata": {
        "id": "view-in-github",
        "colab_type": "text"
      },
      "source": [
        "<a href=\"https://colab.research.google.com/github/hallque/Fall2022/blob/main/intro_to_python.ipynb\" target=\"_parent\"><img src=\"https://colab.research.google.com/assets/colab-badge.svg\" alt=\"Open In Colab\"/></a>"
      ]
    },
    {
      "cell_type": "markdown",
      "metadata": {
        "id": "ub49OqQspQMP"
      },
      "source": [
        "# Introduction to the Python Programming Language\n",
        "\n",
        "-----"
      ]
    },
    {
      "cell_type": "markdown",
      "metadata": {
        "id": "9sps_V4PpQMR"
      },
      "source": [
        "## Why Python\n",
        "\n",
        "[Python][1] is an open-source, high-level, general purpose programming language that was originally developed by [Guido van Rossum][gv]. [What this means][2] is that anyone can view (and optionally make contributions to) the actual language implementation, the language simplifies many tasks for the programmer, especially when compared to other programming languages like C or Java, and Python programs can easily be developed to tackle a wide range of problems including network communication, scientific calculations, data processing and archiving tasks, and graphical tool development. In addition, the syntax and form of the Python programming language is designed to allow Python programs to be quickly developed, simplifying development time and costs while also reducing maintenance costs since a well-written Python program is easy to comprehend.\n",
        "\n",
        "![Python logo](https://www.python.org/static/community_logos/python-logo-master-v3-TM.png)\n",
        "\n",
        "A large number of Python modules, which extend the base programming language, have been developed and are now widely used. These modules, which can simplify the development of new Python programs, can be broadly classified into three types. The first type are commonly used modules that are part of the official Python distribution, known as the [standard library][sl], such as the [`math`][i], [`os.path`][ii], [`pickle`][ip], [`sqlite3`][sql], [`bz2`][iii], or [`csv`][iv] modules. The second type are modules that are also commonly used, but not (yet) part of the official standard library. Relevant example modules of this type are the [`numpy`][np], [`pandas`][pd], [`matplotlib`][mp], or [`scipy`][sp] modules. The last type of module is developed by communities for a special purpose that are currently less commonly used (but this may change in time). These include modules like [`seaborn`][sb], [`statsmodels`][sm], or [`nltk`][nl]. Of course, any developer can write a Python module, thus offering a wide array of possible add-on functionality. Using these modules, however, should be carefully balanced with the importance of minimizing software dependencies, which can reduce development and maintenance issues for software engineers.\n",
        "\n",
        "-----\n",
        "\n",
        "[gv]: https://www.python.org/~guido/\n",
        "[i]: https://docs.python.org/3/library/math.html\n",
        "[ii]: https://docs.python.org/3/library/os.path.html\n",
        "[iii]: https://docs.python.org/3/library/bz2.html\n",
        "[iv]: https://docs.python.org/3/library/csv.html\n",
        "[ip]: https://docs.python.org/3/library/pickle.html\n",
        "[sl]: https://docs.python.org/3/library/\n",
        "[sql]: https://docs.python.org/3/library/sqlite3.html\n",
        "[np]: http://www.numpy.org\n",
        "[mp]: http://matplotlib.org\n",
        "[pd]: http://pandas.pydata.org\n",
        "[sp]: http://www.scipy.org\n",
        "[sb]: http://web.stanford.edu/~mwaskom/software/seaborn/index.html\n",
        "[sm]: http://statsmodels.sourceforge.net\n",
        "[nl]: http://www.nltk.org\n",
        "[1]: https://www.python.org\n",
        "[2]: https://en.wikipedia.org/wiki/Python_(programming_language)\n",
        "[3]: https://wiki.python.org/moin/Python2orPython3\n",
        "[4]: https://wiki.python.org/moin/Python3000/FAQ\n",
        "[5]: https://docs.python.org/3.0/whatsnew/3.0.html"
      ]
    },
    {
      "cell_type": "markdown",
      "metadata": {
        "id": "atnQhZptpQMS"
      },
      "source": [
        "### Python History\n",
        "\n",
        "Python is maintained by the Python Software Foundation and currently comes in [two versions][3]: Python 2 and Python 3. Sometime around the turn of the millennium, [Python developers][4] began to consider improvements to the Python language that might produce incompatibilities with the existing Python language. One such change, which was introduced with Python 3, is that the Python programming language is now consistently object-oriented, which means that everything in a Python program or script is now an _object_. These changes were considered necessary to enable the language to continue to grow and develop. The development of this new version, originally entitled Python 3000 or Python 3K, now shortened to just Python 3 (and even sometimes Python3), took a number of years as new ideas were carefully developed and tested, and to provide sufficient time for the existing community to participate in the progression of the Python language.\n",
        "\n",
        "Now, over 15 years later, Python 3 is an improved version of the original Python language and offers a number of [important advances][5]. Thus, Python 2 is primarily used to maintain backwards compatibility with legacy Python codes that are too difficult or expensive to port to the newer version. **In this class, we will exclusively use Python 3** since it represents the future, and all libraries we will use have already been successfully ported to the new version. As you browse different websites, IPython notebooks, or other resources, you should keep in mind this language split and be sure to focus primarily on Python 3 material to minimize confusion arising from these language differences. \n",
        "\n",
        "-----\n",
        "\n",
        "The following code block, when executed, displays what might be called the Python Zen.\n",
        "\n",
        "-----\n",
        "[gv]: https://www.python.org/~guido/\n",
        "[i]: https://docs.python.org/3/library/math.html\n",
        "[ii]: https://docs.python.org/3/library/os.path.html\n",
        "[iii]: https://docs.python.org/3/library/bz2.html\n",
        "[iv]: https://docs.python.org/3/library/csv.html\n",
        "[ip]: https://docs.python.org/3/library/pickle.html\n",
        "[sl]: https://docs.python.org/3/library/\n",
        "[sql]: https://docs.python.org/3/library/sqlite3.html\n",
        "[np]: http://www.numpy.org\n",
        "[mp]: http://matplotlib.org\n",
        "[pd]: http://pandas.pydata.org\n",
        "[sp]: http://www.scipy.org\n",
        "[sb]: http://web.stanford.edu/~mwaskom/software/seaborn/index.html\n",
        "[sm]: http://statsmodels.sourceforge.net\n",
        "[nl]: http://www.nltk.org\n",
        "[1]: https://www.python.org\n",
        "[2]: https://en.wikipedia.org/wiki/Python_(programming_language)\n",
        "[3]: https://wiki.python.org/moin/Python2orPython3\n",
        "[4]: https://wiki.python.org/moin/Python3000/FAQ\n",
        "[5]: https://docs.python.org/3.0/whatsnew/3.0.html"
      ]
    },
    {
      "cell_type": "code",
      "execution_count": null,
      "metadata": {
        "id": "8K5Udh1LpQMT",
        "outputId": "84b29e92-dd4d-421a-b9e8-edf4aff9d13b"
      },
      "outputs": [
        {
          "name": "stdout",
          "output_type": "stream",
          "text": [
            "The Zen of Python, by Tim Peters\n",
            "\n",
            "Beautiful is better than ugly.\n",
            "Explicit is better than implicit.\n",
            "Simple is better than complex.\n",
            "Complex is better than complicated.\n",
            "Flat is better than nested.\n",
            "Sparse is better than dense.\n",
            "Readability counts.\n",
            "Special cases aren't special enough to break the rules.\n",
            "Although practicality beats purity.\n",
            "Errors should never pass silently.\n",
            "Unless explicitly silenced.\n",
            "In the face of ambiguity, refuse the temptation to guess.\n",
            "There should be one-- and preferably only one --obvious way to do it.\n",
            "Although that way may not be obvious at first unless you're Dutch.\n",
            "Now is better than never.\n",
            "Although never is often better than *right* now.\n",
            "If the implementation is hard to explain, it's a bad idea.\n",
            "If the implementation is easy to explain, it may be a good idea.\n",
            "Namespaces are one honking great idea -- let's do more of those!\n"
          ]
        }
      ],
      "source": [
        "import this"
      ]
    },
    {
      "cell_type": "markdown",
      "metadata": {
        "id": "GUsJRx2ypQMU"
      },
      "source": [
        "-----\n",
        "\n",
        "## Basic Concepts\n",
        "\n",
        "While Python is a relatively easy language to learn, there are a few basic concepts that need to be reviewed before we begin to discuss the Python programming language. A fundamental concept to remember is that good Python code should be easy to read. To help programmers adhere to this guideline, Python has the following guidelines:\n",
        "\n",
        "1. White space is important.\n",
        "2. Names should be descriptive.\n",
        "3. Code blocks are indented four spaces (not hard tabs) and follow a colon.\n",
        "4. Lines of code should be limited to less than 80 characters.\n",
        "5. Good code should be throughly documented both with comments and descriptive documentation strings.\n",
        "\n",
        "If lines need to be longer than 80 characters, the recommended practice is to use parentheses to group operations and to use suitable indentation to maintain readability. In the event this is insufficient, a line continuation character, `/`, can be used to allow code to extend over as many lines as necessary. If that sounds confusing, don't worry, you will see examples where this is demonstrated repeatedly in this course.\n",
        "\n",
        "Python supports [REPL](https://en.wikipedia.org/wiki/Read–eval–print_loop), which is an abbreviation for Read-Eval-Print Loop, allowing a developer to write, run, and test code iteratively, which aids in quickly developing new programs. Python is also Unicode complaint, so character coding can be specified (for example, UTF-8) at the start of a program (or in string literals), allowing a wider range of characters to be used to write descriptive text.\n",
        "\n",
        "-----"
      ]
    },
    {
      "cell_type": "markdown",
      "metadata": {
        "id": "qOPfDlSUpQMU"
      },
      "source": [
        "### Python Identifiers\n",
        "\n",
        "A Python identifier is a name that is composed of a sequence of letters, numbers, and underscore characters that must adhere to the following rules:\n",
        "\n",
        "1. The first character must be a letter or an underscore character.\n",
        "2. Variable and Function names traditionally start with a lowercase letter.\n",
        "3. Classes traditionally start with an uppercase letter.\n",
        "4. The identifier cannot be one of the reserved Python keywords, listed in the code block below.\n",
        "\n",
        "While not explicitly prevented, it is also recommended to avoid names of objects from common Python libraries to minimize name collisions and any resultant confusion. \n",
        "\n",
        "In this lesson, we will discuss variables, demonstrate how to use them effectively in a Python program, and use several built-in functions. A variable is simply a name that refers to something else, like a number or a string of characters. In a future lesson, we will discuss functions in more depth. For now, simply consider a function as a chunk of code, wrapped in a name that does something. A classic example is a math function like the `sin` function or a more general function like `print`, which displays text to the screen.\n",
        "\n",
        "In the following Code cell, we use the `help`  built-in function to display the list of Python keywords. These names are reserved and cannot be used as the name of a variable or function.\n",
        "\n",
        "----"
      ]
    },
    {
      "cell_type": "code",
      "execution_count": 2,
      "metadata": {
        "colab": {
          "base_uri": "https://localhost:8080/"
        },
        "id": "l06iZMaVpQMV",
        "outputId": "58b9531d-d858-493a-a561-a9d504b44f74"
      },
      "outputs": [
        {
          "output_type": "stream",
          "name": "stdout",
          "text": [
            "\n",
            "Here is a list of the Python keywords.  Enter any keyword to get more help.\n",
            "\n",
            "False               class               from                or\n",
            "None                continue            global              pass\n",
            "True                def                 if                  raise\n",
            "and                 del                 import              return\n",
            "as                  elif                in                  try\n",
            "assert              else                is                  while\n",
            "async               except              lambda              with\n",
            "await               finally             nonlocal            yield\n",
            "break               for                 not                 \n",
            "\n"
          ]
        }
      ],
      "source": [
        "# We are in a Python3 Kernel\n",
        "# Display Python3 Keywords\n",
        "\n",
        "help('keywords')"
      ]
    },
    {
      "cell_type": "markdown",
      "metadata": {
        "id": "xJBlmNZcpQMV"
      },
      "source": [
        "-----\n",
        "\n",
        "A Python identifier can be used as the name of a variable, function, class, or module. Python identifiers are case sensitive, so `mylist` is different than `myList`. Writing descriptive identifiers can be beneficial for code readability and subsequent maintenance, thus we often write multi-word identifiers. When combining words, one can either use camel-case format, where each new word after the first is capitalized like `myFileList`. Alternatively, we also can separate words by using underscores like `my_filename_list`.  While both approaches are legal, it is best to be consistent as much as possible. \n",
        "\n",
        "The Python Enhancement Proposal (abbreviated as PEP), [PEP-8](http://legacy.python.org/dev/peps/pep-0008/#introduction), provides a complete discussion of recommended best practices when writing Python code.\n",
        "\n",
        "### Documentation\n",
        "\n",
        "The primary mechanism for documenting Python code is to use comments. Python supports two types of comment strings. The first type is a single-line comment, which begins with the hash or pound character `#` and continues until the end of the line. The `#` character can appear anywhere on the line. You can create large comment blocks by placing single-line comments adjacent to each other in a Python program. Here are a several examples of single-line comments; the first comment consists of the entire line, and the second comment extends from the preceding command to the end of that line. \n",
        "\n",
        "```python   \n",
        "# Calculate the hypotenuse of a triangle\n",
        "c = math.sqrt(a**2 + b**2) # Assuming Euclidean Geometry\n",
        "```\n",
        "\n",
        "The second type of comment is a multi-line comment, which begins and ends with either three single quote characters,  `''' comment text '''` , or three double quote characters in a row: `\"\"\" comment text \"\"\"`. This comment can easily extend over multiple lines and is, therefore, used in a Python program to provide documentation via an implicit docstring for functions and classes. Here is an example of a multi-line comment string:\n",
        "\n",
        "```python   \n",
        "\n",
        "'''\n",
        "This multi-line comment can provide useful information\n",
        "for a function, class, or module.\n",
        "\n",
        "This also allows whitespace to be used to help\n",
        "write more clearly.\n",
        "'''\n",
        "```\n",
        "\n",
        "The built-in `help`  function can be used to view _docstring_ comments for different functions, classes, or other Python features, as shown in the following code block. As the adjacent comment suggests, you should execute this function and change the argument to the `help` function to view documentation for other Python language components like `int`, `complex`, `math`, or `list`.\n",
        "\n",
        "Another built-in function that you will frequently use is the `print` function, which, if necessary, converts its arguments to a string and displays the resulting string to _STDOUT_, which is generally the display. We will discuss functions, like the `print` function, in more detail in the next lesson.\n",
        "\n",
        "-----"
      ]
    },
    {
      "cell_type": "code",
      "execution_count": 6,
      "metadata": {
        "colab": {
          "base_uri": "https://localhost:8080/"
        },
        "id": "aU06JnjdpQMV",
        "outputId": "adc44da8-3c83-4480-e047-55aada58f676"
      },
      "outputs": [
        {
          "output_type": "stream",
          "name": "stdout",
          "text": [
            "Help on built-in function print in module builtins:\n",
            "\n",
            "print(...)\n",
            "    print(value, ..., sep=' ', end='\\n', file=sys.stdout, flush=False)\n",
            "    \n",
            "    Prints the values to a stream, or to sys.stdout by default.\n",
            "    Optional keyword arguments:\n",
            "    file:  a file-like object (stream); defaults to the current sys.stdout.\n",
            "    sep:   string inserted between values, default a space.\n",
            "    end:   string appended after the last value, default a newline.\n",
            "    flush: whether to forcibly flush the stream.\n",
            "\n"
          ]
        }
      ],
      "source": [
        "help(print) # Try changing print to something different like int, complex, str, or list."
      ]
    },
    {
      "cell_type": "markdown",
      "metadata": {
        "id": "AFSE1FeMpQMW"
      },
      "source": [
        "-----\n",
        "\n",
        "<font color='red' size = '5'> Student Exercise </font>\n",
        "\n",
        "In the empty **Code** cell below, write a simple Python comment, write a multi-line comment, and use the `help` command to display the built-in documentation for the `dict` and `str` classes.\n",
        "\n",
        "-----"
      ]
    },
    {
      "cell_type": "code",
      "execution_count": null,
      "metadata": {
        "id": "4rKDw5oypQMW"
      },
      "outputs": [],
      "source": [
        ""
      ]
    },
    {
      "cell_type": "markdown",
      "metadata": {
        "id": "zJgo6E9zpQMW"
      },
      "source": [
        "-----\n",
        "\n",
        "## Data Types\n",
        "\n",
        "Python supports several standard data types including integer, floating-point, and character data, or a string of characters (this data type will be discussed in more detail in a later lesson). Python is a dynamically-typed language, which means we do not need to **declare** the data type for a variable. Instead, the Python interpreter determines the data type for a variable by the type of data the variable holds. For example, if a variable holds an integer number like 1, 2, 3, or -10, the variable is of type int. Likewise, if the variable contains a real number like 3.14, the variable is of type float, which is shorthand for floating-point.\n",
        "\n",
        "The Python language has two other special data types. The first is a Boolean type, which can take one of two special values: `True` or `False`. We will explore the Boolean data type in more detail in a later lesson. The second is a special type to indicate a null value, which in Python is encoded as `None`.\n",
        "\n",
        "In the following Code cells, we demonstrate how Python handles these basic data types. Remember to make changes and rerun these cells to better understand the Python type system.\n",
        "\n",
        "-----"
      ]
    },
    {
      "cell_type": "code",
      "execution_count": null,
      "metadata": {
        "id": "Ww5B0WX8pQMW",
        "outputId": "cc19fe33-3d9c-4a04-f847-d296d2347401"
      },
      "outputs": [
        {
          "data": {
            "text/plain": [
              "int"
            ]
          },
          "execution_count": 4,
          "metadata": {},
          "output_type": "execute_result"
        }
      ],
      "source": [
        "# An integer value\n",
        "x = 1\n",
        "type(x)"
      ]
    },
    {
      "cell_type": "code",
      "execution_count": null,
      "metadata": {
        "id": "S4c4-DrYpQMW",
        "outputId": "c331dd5c-051f-4b6d-a651-efd1238c7683"
      },
      "outputs": [
        {
          "data": {
            "text/plain": [
              "float"
            ]
          },
          "execution_count": 5,
          "metadata": {},
          "output_type": "execute_result"
        }
      ],
      "source": [
        "# A floating-point value\n",
        "x = 3.2\n",
        "type(x)"
      ]
    },
    {
      "cell_type": "code",
      "execution_count": null,
      "metadata": {
        "id": "mO-2FZ6RpQMX",
        "outputId": "48277cc4-97cb-42cb-d31a-31b0005cadaa"
      },
      "outputs": [
        {
          "data": {
            "text/plain": [
              "str"
            ]
          },
          "execution_count": 6,
          "metadata": {},
          "output_type": "execute_result"
        }
      ],
      "source": [
        "# A string of characters\n",
        "x = 'Hello!'\n",
        "type(x)"
      ]
    },
    {
      "cell_type": "code",
      "execution_count": null,
      "metadata": {
        "id": "BVtlF347pQMX",
        "outputId": "a94b866c-a215-4c4c-f27b-b5823ad72b4e"
      },
      "outputs": [
        {
          "data": {
            "text/plain": [
              "bool"
            ]
          },
          "execution_count": 7,
          "metadata": {},
          "output_type": "execute_result"
        }
      ],
      "source": [
        "# A Boolean value\n",
        "x = True\n",
        "type(x)"
      ]
    },
    {
      "cell_type": "code",
      "execution_count": null,
      "metadata": {
        "id": "2iq69w79pQMX",
        "outputId": "772a9204-8124-4199-ae33-afcd8bfb75b0"
      },
      "outputs": [
        {
          "data": {
            "text/plain": [
              "NoneType"
            ]
          },
          "execution_count": 8,
          "metadata": {},
          "output_type": "execute_result"
        }
      ],
      "source": [
        "# A None value\n",
        "x = None\n",
        "type(x)"
      ]
    },
    {
      "cell_type": "code",
      "execution_count": 9,
      "metadata": {
        "scrolled": true,
        "colab": {
          "base_uri": "https://localhost:8080/"
        },
        "id": "MQIw4KjQpQMY",
        "outputId": "5abc0b39-ea8e-4a57-d18c-efb7d4625a97"
      },
      "outputs": [
        {
          "output_type": "execute_result",
          "data": {
            "text/plain": [
              "builtin_function_or_method"
            ]
          },
          "metadata": {},
          "execution_count": 9
        }
      ],
      "source": [
        "type(print) # Try changing print to something different like 'Hello World!' or math"
      ]
    },
    {
      "cell_type": "markdown",
      "metadata": {
        "id": "b7y6XCWCpQMY"
      },
      "source": [
        "----\n",
        "\n",
        "### Python Operators\n",
        "\n",
        "Python supports the [basic mathematical operators][1]. The following list presents the basic mathematical operators, in order of precedence (operators in the same table cell have the same precedence):\n",
        "\n",
        "| Operator                         | Description                              | Example                                  |\n",
        "| -------------------------------- | ---------------------------------------- | ---------------------------------------- |\n",
        "| `()`                             | Parentheses for grouping                 | `(2 + 3)`                                |\n",
        "| `**`                             | Exponential function                     | `2**3`                                   |\n",
        "| `*`<br/> `/`<br/> `//` <br/> `%` | Multiplication<br/> Division<br/>Integer Division<br/> Remainder | `2*3.1` <br/> `3.2 / 1.2 ` <br/> `5//2` <br/> `5%2` |\n",
        "| `+` <br/> `-`                    | Addition <br/> Subtraction               | `1.45 + 3.14` <br/> `5.3 - 2.125`        |\n",
        "\n",
        "\n",
        "When computing a quantity, you often will want to assign the value to a variable. This is done by using the assignment operator `=`. On the other hand, if you want to test if two values are the same, you use the equivalence operator, `==`. In addition, Python provides augmented assignment operators that combine a basic mathematical operator (`+`, `-`, `*`, `/`, `**`, `//`, or `%`) with the assignment operator: `+=`, `-=`, `*=`, `/=`, `**=`, `//=`, and `%=`; this can simplify and thus clarify some expressions. As a simple example of an augmented assignment operator, the following Python expressions are equivalent:\n",
        "\n",
        "```python\n",
        "a = a + 1\n",
        "a += 1\n",
        "```\n",
        "\n",
        "In the preceding example code, we have introduced the use of variables to hold the result of a calculation. Python is a dynamically-typed language; thus we do not need to first declare the variable and its type before using it. If the variable is reused and assigned a different value, the variable takes on a new type. Python has a built-in `type` function that can always be used to ascertain the underlying data type of a variable or any other legal Python construct, as shown in the previous Code cells.\n",
        "\n",
        "-----\n",
        "[1]: https://en.wikibooks.org/wiki/Python_Programming/Basic_Math"
      ]
    },
    {
      "cell_type": "markdown",
      "metadata": {
        "id": "p1gclO0FpQMY"
      },
      "source": [
        "<font color='red' size = '5'> Student Exercise </font>\n",
        "\n",
        "In the empty **Code** cell below, write a simple Python script to calculate the approximate number of seconds in one week. Use a variable to hold the calculation and print the answer within this notebook.\n",
        "\n",
        "-----"
      ]
    },
    {
      "cell_type": "code",
      "execution_count": null,
      "metadata": {
        "id": "PSbsHPYUpQMY"
      },
      "outputs": [],
      "source": [
        ""
      ]
    },
    {
      "cell_type": "markdown",
      "metadata": {
        "id": "KXTUBE6hpQMZ"
      },
      "source": [
        "-----\n",
        "\n",
        "Python also supports other operators that are used when working with [Boolean][3] data or to perform [bit-wise operations][4]. For conciseness, we do not discuss these operators in this notebook.\n",
        "\n",
        "In the next set of Code cells, we present several examples that demonstrate how to use the basic Python mathematical operators to compute different expressions. These blocks are meant to be executed, modified, and re-executed! \n",
        "\n",
        "One important point is that the Python interpreter provides a shorthand, a single underscore character `_`, to include the result of the last expression that was displayed by the Python interpreter in a new expression. Note that this is not automatically the result of a previous Jupyter notebook cell, but is the last value computed. This is especially true if multiple values are calculated within a code block. The notebook extends this to allow repeated underscore characters to refer to previously calculated expressions, where the number of underscores refers to how many previous expressions should be used in palace of the underscore characters:\n",
        "\n",
        "```python   \n",
        "\n",
        ">>> a = 123\n",
        ">>> a\n",
        "123\n",
        ">>> _ + 1\n",
        "124\n",
        "```\n",
        "\n",
        "While this can be helpful when testing out new concepts, it is not a recommended best practice when developing new notebooks. Remember that in Python it is considered good to be explicit.\n",
        "\n",
        "-----\n",
        "[1]: https://en.wikibooks.org/wiki/Python_Programming/Basic_Math\n",
        "[2]: https://docs.python.org/3/library/math.html\n",
        "[3]: https://en.wikibooks.org/wiki/Python_Programming/Operators#Boolean\n",
        "[4]: https://wiki.python.org/moin/BitwiseOperators"
      ]
    },
    {
      "cell_type": "code",
      "execution_count": null,
      "metadata": {
        "id": "GfDbuq55pQMZ",
        "outputId": "e7a13739-67c1-4e1f-ac06-3ca72a3ea7ad"
      },
      "outputs": [
        {
          "data": {
            "text/plain": [
              "2"
            ]
          },
          "execution_count": 10,
          "metadata": {},
          "output_type": "execute_result"
        }
      ],
      "source": [
        "5 // 2"
      ]
    },
    {
      "cell_type": "code",
      "execution_count": null,
      "metadata": {
        "id": "3zluy8OwpQMZ",
        "outputId": "d51ae097-b0e6-4ae0-dbad-be209f100d05"
      },
      "outputs": [
        {
          "data": {
            "text/plain": [
              "1"
            ]
          },
          "execution_count": 11,
          "metadata": {},
          "output_type": "execute_result"
        }
      ],
      "source": [
        "5 % 2"
      ]
    },
    {
      "cell_type": "code",
      "execution_count": null,
      "metadata": {
        "id": "o9hnCVJ4pQMZ",
        "outputId": "6b6083dd-3d91-4e47-f50a-d4ab8ec031c9"
      },
      "outputs": [
        {
          "data": {
            "text/plain": [
              "123.3010280397591"
            ]
          },
          "execution_count": 12,
          "metadata": {},
          "output_type": "execute_result"
        }
      ],
      "source": [
        "2.5 * 4.3 / 1.2 *(2 + 3 + 4 + 5) - 2.1**1.01"
      ]
    },
    {
      "cell_type": "code",
      "execution_count": null,
      "metadata": {
        "id": "uUlOYb7zpQMZ",
        "outputId": "ac53e6c2-5ecf-4a02-b3cd-9a9a4cb48faa"
      },
      "outputs": [
        {
          "data": {
            "text/plain": [
              "246.6020560795182"
            ]
          },
          "execution_count": 13,
          "metadata": {},
          "output_type": "execute_result"
        }
      ],
      "source": [
        "2 * _  # Use the result from the previous calculation"
      ]
    },
    {
      "cell_type": "code",
      "execution_count": null,
      "metadata": {
        "id": "_YhWUHJ6pQMa",
        "outputId": "a99f74aa-be75-4acf-d0ae-5e999e55d166"
      },
      "outputs": [
        {
          "data": {
            "text/plain": [
              "370.9030841192773"
            ]
          },
          "execution_count": 14,
          "metadata": {},
          "output_type": "execute_result"
        }
      ],
      "source": [
        "_ + __ + 1 # We now refer to the previous two calculations"
      ]
    },
    {
      "cell_type": "markdown",
      "metadata": {
        "id": "DKQyP92ApQMa"
      },
      "source": [
        "-----\n",
        "\n",
        "## Ancillary information\n",
        "\n",
        "The following links are to additional documentation that you might find helpful in learning this material. Reading these web-accessible documents is completely optional.\n",
        "\n",
        "1. The official [Python3 Tutorial](https://docs.python.org/3/tutorial/index.html)\n",
        "2. An official guide to Python for [Beginners](https://www.python.org/about/gettingstarted/)\n",
        "3. The book [_Think Python_](http://greenteapress.com/wp/think-python-2e/) for Python3 provides a comprehensive view of Python for data science.\n",
        "\n",
        "\n",
        "-----"
      ]
    }
  ],
  "metadata": {
    "kernelspec": {
      "display_name": "Python 3 (ipykernel)",
      "language": "python",
      "name": "python3"
    },
    "language_info": {
      "codemirror_mode": {
        "name": "ipython",
        "version": 3
      },
      "file_extension": ".py",
      "mimetype": "text/x-python",
      "name": "python",
      "nbconvert_exporter": "python",
      "pygments_lexer": "ipython3",
      "version": "3.9.10"
    },
    "colab": {
      "name": "intro_to_python.ipynb",
      "provenance": [],
      "include_colab_link": true
    }
  },
  "nbformat": 4,
  "nbformat_minor": 0
}